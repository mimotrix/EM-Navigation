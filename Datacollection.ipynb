{
 "cells": [
  {
   "cell_type": "markdown",
   "metadata": {},
   "source": [
    "## Navigation Using ElectroMagnetic Field Variations\n",
    "### Report 1, Subject: Data Collection, May 2019\n",
    "#### By M. A."
   ]
  },
  {
   "cell_type": "markdown",
   "metadata": {},
   "source": [
    "### EMM ( ElectroMagneticModel ) Maps\n",
    "#### National Center for Environmental Information, National Ocean and Atmospheric Administration (NOAA)\n",
    "#### Resource: https://www.ngdc.noaa.gov/geomag/EMM/"
   ]
  },
  {
   "cell_type": "markdown",
   "metadata": {},
   "source": [
    "emm_sph_grid queries: <br/>\n",
    ">input: lat (min, max) long (min, max) step_size mean_sea_level (min, max, step_size) year(min, max, step_zie)<br/>\n",
    ">output: \n",
    "     1. Declination\t9.   Ddot\n",
    "     2. Inclination\t10. Idot\n",
    "     3. F\t\t11. Fdot\n",
    "     4. H\t\t12. Hdot\n",
    "     5. X\t\t13. Xdot\n",
    "     6. Y\t\t14. Ydot\n",
    "     7. Z\t\t15. Zdot\n",
    "     8. GV\t\t16. GVdot\n",
    "\n",
    "<br/>desired: X, Y, Z ( for now )\n"
   ]
  },
  {
   "cell_type": "markdown",
   "metadata": {},
   "source": [
    "### Extracting Tehran EMM Map\n",
    "#### Info:\n",
    "top right : 35.766860, 51.058130 <br/>\n",
    "top left: 35.734456, 51.642174<br/>\n",
    "bottom left: 35.553916, 51.594479<br/>\n",
    "<br/>\n",
    "<br/>\n",
    "minimum lat:\t35.553916\tmaximum lat: 35.766860<br/>\n",
    "minumum long:\t51.058130\tmaximum long: 51.642174<br/>\n",
    "<br/>\n",
    "Generalized:<br/> \n",
    "minimum lat:\t35.55\tmaximum lat: 35.77<br/>\n",
    "minumum long:\t51.05\tmaximum long: 51.65<br/>\n",
    "<br/>\n",
    "Step Size: 0.001<br/>\n",
    "<br/>\n",
    "Above Mean Sea Level: 1.178 km 0.01<br/>\n",
    "Year: 2017<br/>\n"
   ]
  },
  {
   "cell_type": "markdown",
   "metadata": {},
   "source": [
    "#### Query Example for Extracting X:\n",
    "Please Enter Minimum Latitude (in decimal degrees):<br/>\n",
    "35.55<br/>\n",
    "Please Enter Maximum Latitude (in decimal degrees):<br/>\n",
    "35.77<br/>\n",
    "Please Enter Minimum Longitude (in decimal degrees):<br/>\n",
    "51.05<br/>\n",
    "Please Enter Maximum Longitude (in decimal degrees):<br/>\n",
    "51.65<br/>\n",
    "Please Enter Step Size (in decimal degrees):<br/>\n",
    "0.001<br/>\n",
    "Select height (default : above MSL) <br/>\n",
    "1.Above Mean Sea Level<br/>\n",
    "2.Above WGS-84 Ellipsoid <br/>\n",
    "1<br/>\n",
    "Please Enter Minimum Height above MSL (in km):<br/>\n",
    "1.178<br/>\n",
    "Please Enter Maximum Height above MSL (in km):<br/>\n",
    "1.178<br/>\n",
    "Please Enter height step size (in km):<br/>\n",
    "0.01<br/>\n",
    "<br/>\n",
    "Please Enter the decimal year starting time:<br/>\n",
    "2017<br/>\n",
    "Please Enter the decimal year ending time:<br/>\n",
    "2017<br/>\n",
    "Please Enter the time step size:<br/>\n",
    "1<br/>"
   ]
  },
  {
   "cell_type": "markdown",
   "metadata": {},
   "source": [
    "#### for Y and Z, we execute the same query."
   ]
  },
  {
   "cell_type": "markdown",
   "metadata": {},
   "source": [
    "#### Extracted data are stored in these 3 files:\n",
    ">Tehran2017X.txt<br/>Tehran2017Y.txt<br/>Tehran2017Z.txt<br/>"
   ]
  },
  {
   "cell_type": "markdown",
   "metadata": {},
   "source": [
    "### Importing data from files and cleaning it"
   ]
  },
  {
   "cell_type": "code",
   "execution_count": 42,
   "metadata": {},
   "outputs": [],
   "source": [
    "import pandas as pd\n",
    "X = pd.read_csv('Tehran2017X.txt', delimiter = \" \", header=None, usecols=[0,2,5,6,9], names = [\"lat\", \"long\", \"mean_sea_level\", \"year\",\"X\"])\n",
    "Y = pd.read_csv('Tehran2017Y.txt', delimiter = \" \", header=None, usecols=[0,2,5,6,10], names = [\"lat\", \"long\", \"mean_sea_level\", \"year\",\"Y\"])\n",
    "Z = pd.read_csv('Tehran2017Z.txt', delimiter = \" \", header=None, usecols=[0,2,5,6,9], names = [\"lat\", \"long\", \"mean_sea_level\", \"year\",\"Z\"])"
   ]
  },
  {
   "cell_type": "markdown",
   "metadata": {},
   "source": [
    "### Showing Data Properties: Shape and Sample"
   ]
  },
  {
   "cell_type": "code",
   "execution_count": 45,
   "metadata": {},
   "outputs": [
    {
     "name": "stdout",
     "output_type": "stream",
     "text": [
      "(132821, 5) (132821, 5) (132821, 5)\n"
     ]
    }
   ],
   "source": [
    "print(X.shape, Y.shape, Z.shape)"
   ]
  },
  {
   "cell_type": "code",
   "execution_count": 46,
   "metadata": {},
   "outputs": [
    {
     "name": "stdout",
     "output_type": "stream",
     "text": [
      "     lat   long  mean_sea_level    year         X\n",
      "1  35.55  51.05           1.178  2017.0  27941.66\n",
      "2  35.55  51.05           1.178  2017.0  27941.71\n",
      "3  35.55  51.05           1.178  2017.0  27941.75\n",
      "4  35.55  51.05           1.178  2017.0  27941.79\n",
      "5  35.55  51.05           1.178  2017.0  27941.83\n",
      "6  35.55  51.06           1.178  2017.0  27941.87\n",
      "7  35.55  51.06           1.178  2017.0  27941.91\n",
      "8  35.55  51.06           1.178  2017.0  27941.95\n",
      "9  35.55  51.06           1.178  2017.0  27941.98 \n",
      "      lat   long  mean_sea_level    year        Y\n",
      "1  35.55  51.05           1.178  2017.0  2255.54\n",
      "2  35.55  51.05           1.178  2017.0  2255.61\n",
      "3  35.55  51.05           1.178  2017.0  2255.68\n",
      "4  35.55  51.05           1.178  2017.0  2255.76\n",
      "5  35.55  51.05           1.178  2017.0  2255.84\n",
      "6  35.55  51.06           1.178  2017.0  2255.91\n",
      "7  35.55  51.06           1.178  2017.0  2255.99\n",
      "8  35.55  51.06           1.178  2017.0  2256.07\n",
      "9  35.55  51.06           1.178  2017.0  2256.15 \n",
      "      lat   long  mean_sea_level    year         Z\n",
      "1  35.55  51.05           1.178  2017.0  39171.50\n",
      "2  35.55  51.05           1.178  2017.0  39171.49\n",
      "3  35.55  51.05           1.178  2017.0  39171.47\n",
      "4  35.55  51.05           1.178  2017.0  39171.46\n",
      "5  35.55  51.05           1.178  2017.0  39171.45\n",
      "6  35.55  51.06           1.178  2017.0  39171.45\n",
      "7  35.55  51.06           1.178  2017.0  39171.44\n",
      "8  35.55  51.06           1.178  2017.0  39171.43\n",
      "9  35.55  51.06           1.178  2017.0  39171.43\n"
     ]
    }
   ],
   "source": [
    "print(X[1:10], \"\\n\", Y[1:10], \"\\n\", Z[1:10])"
   ]
  },
  {
   "cell_type": "markdown",
   "metadata": {},
   "source": [
    "### Creating Sample and Label Matrix"
   ]
  },
  {
   "cell_type": "code",
   "execution_count": 58,
   "metadata": {
    "scrolled": true
   },
   "outputs": [
    {
     "name": "stdout",
     "output_type": "stream",
     "text": [
      "(132821, 3)\n",
      "          X        Y         Z\n",
      "1  27941.66  2255.54  39171.50\n",
      "2  27941.71  2255.61  39171.49\n",
      "3  27941.75  2255.68  39171.47\n",
      "4  27941.79  2255.76  39171.46\n",
      "5  27941.83  2255.84  39171.45\n",
      "6  27941.87  2255.91  39171.45\n",
      "7  27941.91  2255.99  39171.44\n",
      "8  27941.95  2256.07  39171.43\n",
      "9  27941.98  2256.15  39171.43\n"
     ]
    }
   ],
   "source": [
    "Samples = pd.DataFrame({\"X\":X[\"X\"], \"Y\":Y[\"Y\"], \"Z\":Z[\"Z\"]})\n",
    "print(Samples.shape)\n",
    "print(Samples[1:10]) # Prints 10 Samples"
   ]
  },
  {
   "cell_type": "code",
   "execution_count": 60,
   "metadata": {},
   "outputs": [
    {
     "name": "stdout",
     "output_type": "stream",
     "text": [
      "(132821, 2)\n",
      "     lat   long\n",
      "1  35.55  51.05\n",
      "2  35.55  51.05\n",
      "3  35.55  51.05\n",
      "4  35.55  51.05\n",
      "5  35.55  51.05\n",
      "6  35.55  51.06\n",
      "7  35.55  51.06\n",
      "8  35.55  51.06\n",
      "9  35.55  51.06\n"
     ]
    }
   ],
   "source": [
    "Lables = pd.DataFrame({\"lat\":X[\"lat\"], \"long\":X[\"long\"]})\n",
    "print(Lables.shape)\n",
    "print(Lables[1:10]) # Prints 10 Samples"
   ]
  },
  {
   "cell_type": "markdown",
   "metadata": {},
   "source": [
    "### Splitting Data to Train and Test Sets ( 70% for Train and Validation, 30% for Test )"
   ]
  },
  {
   "cell_type": "code",
   "execution_count": 70,
   "metadata": {},
   "outputs": [],
   "source": [
    "from sklearn.model_selection import train_test_split\n",
    "\n",
    "# we keep 30% random examples for test\n",
    "X_train, X_test, Y_train, Y_test = train_test_split(Samples,\n",
    "Lables, test_size=0.3, random_state=101)\n"
   ]
  },
  {
   "cell_type": "code",
   "execution_count": 71,
   "metadata": {},
   "outputs": [
    {
     "name": "stdout",
     "output_type": "stream",
     "text": [
      "X_train Samples:\n",
      "                X        Y         Z\n",
      "17965   27918.59  2201.32  39261.93\n",
      "97921   27848.84  2215.43  39378.51\n",
      "120310  27797.45  2283.77  39353.19\n",
      "11658   27914.40  2270.05  39220.48\n",
      "128296  27803.92  2273.14  39383.88\n",
      "67361   27848.92  2269.77  39281.24\n",
      "82958   27824.25  2276.95  39301.26\n",
      "83305   27847.69  2259.44  39337.20\n",
      "39991   27884.28  2260.64  39273.72 \n",
      "\n",
      "Y_train Samples\n",
      "           lat   long\n",
      "17965   35.58  51.59\n",
      "97921   35.71  51.61\n",
      "120310  35.75  51.16\n",
      "11658   35.57  51.29\n",
      "128296  35.76  51.33\n",
      "67361   35.66  51.10\n",
      "82958   35.69  51.07\n",
      "83305   35.69  51.42\n",
      "39991   35.62  51.37\n"
     ]
    }
   ],
   "source": [
    "print(\"X_train Samples:\\n\", X_train[1:10], \"\\n\\nY_train Samples\\n\", Y_train[1:10])"
   ]
  },
  {
   "cell_type": "code",
   "execution_count": 72,
   "metadata": {},
   "outputs": [
    {
     "name": "stdout",
     "output_type": "stream",
     "text": [
      "X_test Samples:\n",
      "                X        Y         Z\n",
      "75348   27850.88  2269.96  39301.31\n",
      "9742    27925.97  2267.42  39196.06\n",
      "95774   27831.23  2272.54  39328.55\n",
      "115635  27814.13  2274.21  39360.10\n",
      "12520   27919.28  2210.60  39257.24\n",
      "50005   27876.02  2266.78  39257.36\n",
      "11254   27914.55  2230.11  39255.67\n",
      "125049  27780.62  2293.26  39351.90\n",
      "5794    27916.41  2244.38  39244.37 \n",
      "\n",
      "Y_test Samples\n",
      "           lat   long\n",
      "75348   35.67  51.27\n",
      "9742    35.57  51.18\n",
      "95774   35.71  51.26\n",
      "115635  35.74  51.29\n",
      "12520   35.57  51.55\n",
      "50005   35.63  51.17\n",
      "11254   35.57  51.49\n",
      "125049  35.76  51.09\n",
      "5794    35.56  51.43\n"
     ]
    }
   ],
   "source": [
    "print(\"X_test Samples:\\n\", X_test[1:10], \"\\n\\nY_test Samples\\n\", Y_test[1:10])"
   ]
  },
  {
   "cell_type": "code",
   "execution_count": null,
   "metadata": {},
   "outputs": [],
   "source": []
  }
 ],
 "metadata": {
  "kernelspec": {
   "display_name": "Python 3",
   "language": "python",
   "name": "python3"
  },
  "language_info": {
   "codemirror_mode": {
    "name": "ipython",
    "version": 3
   },
   "file_extension": ".py",
   "mimetype": "text/x-python",
   "name": "python",
   "nbconvert_exporter": "python",
   "pygments_lexer": "ipython3",
   "version": "3.6.7"
  }
 },
 "nbformat": 4,
 "nbformat_minor": 2
}
